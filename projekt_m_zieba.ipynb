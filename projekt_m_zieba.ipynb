{
  "nbformat": 4,
  "nbformat_minor": 0,
  "metadata": {
    "colab": {
      "provenance": [],
      "gpuType": "T4",
      "authorship_tag": "ABX9TyNC7s3z2gIbdV26XmzLkvjU"
    },
    "kernelspec": {
      "name": "python3",
      "display_name": "Python 3"
    },
    "language_info": {
      "name": "python"
    },
    "accelerator": "GPU"
  },
  "cells": [
    {
      "cell_type": "markdown",
      "source": [
        "# Pobranie bazy danych przy użyciu Kaggle API\n"
      ],
      "metadata": {
        "id": "XLOQwoMPb-cx"
      }
    },
    {
      "cell_type": "code",
      "source": [
        "import pandas as pd\n",
        "import numpy as np\n",
        "from nltk.tokenize import word_tokenize\n",
        "from nltk.corpus import stopwords\n",
        "from nltk.stem import WordNetLemmatizer\n",
        "import re\n",
        "import nltk\n",
        "nltk.download('punkt')\n",
        "nltk.download('stopwords')\n",
        "nltk.download('wordnet')\n",
        "import tensorflow as tf\n",
        "from sklearn.model_selection import train_test_split\n",
        "from tensorflow.keras.preprocessing.text import Tokenizer\n",
        "from tensorflow.keras.preprocessing.sequence import pad_sequences\n",
        "from tensorflow.keras.layers import Embedding, LSTM, Dense, Bidirectional\n",
        "from tensorflow.keras.models import Sequential\n",
        "from sklearn.preprocessing import LabelEncoder\n",
        "from keras.optimizers import SGD"
      ],
      "metadata": {
        "colab": {
          "base_uri": "https://localhost:8080/"
        },
        "id": "-HMNqPA7cf76",
        "outputId": "a9718d1d-e148-412a-e74a-a53b527ab614"
      },
      "execution_count": 44,
      "outputs": [
        {
          "output_type": "stream",
          "name": "stderr",
          "text": [
            "[nltk_data] Downloading package punkt to /root/nltk_data...\n",
            "[nltk_data]   Package punkt is already up-to-date!\n",
            "[nltk_data] Downloading package stopwords to /root/nltk_data...\n",
            "[nltk_data]   Package stopwords is already up-to-date!\n",
            "[nltk_data] Downloading package wordnet to /root/nltk_data...\n",
            "[nltk_data]   Package wordnet is already up-to-date!\n"
          ]
        }
      ]
    },
    {
      "cell_type": "code",
      "source": [
        "import os\n",
        "import json\n",
        "from kaggle.api.kaggle_api_extended import KaggleApi\n",
        "\n",
        "# Moje API\n",
        "kaggle_json = {\n",
        "    \"username\": \"miczelzieb\",\n",
        "    \"key\": \"854eca6e83763f817886d45e3daa0c4\"\n",
        "}\n",
        "\n",
        "# Tworze katalog\n",
        "os.makedirs(os.path.expanduser(\"~/.kaggle\"), exist_ok=True)\n",
        "\n",
        "# Zapisuje plik\n",
        "with open(os.path.expanduser(\"~/.kaggle/kaggle.json\"), \"w\") as f:\n",
        "    json.dump(kaggle_json, f)\n",
        "# Zmieniam uprawnienia\n",
        "os.chmod(os.path.expanduser(\"~/.kaggle/kaggle.json\"), 0o600)\n"
      ],
      "metadata": {
        "id": "JOCidIalZTbk"
      },
      "execution_count": 5,
      "outputs": []
    },
    {
      "cell_type": "markdown",
      "source": [
        "# OOP Klasa KaggleDatasetFetcher pobiera nazwę datasetu z Kaggle i importuje ją do folderu data na komputerze\n"
      ],
      "metadata": {
        "id": "lrOv-v15SezR"
      }
    },
    {
      "cell_type": "code",
      "execution_count": 71,
      "metadata": {
        "colab": {
          "base_uri": "https://localhost:8080/"
        },
        "id": "SyZi5XIAYE5I",
        "outputId": "29dee8d2-e568-4291-d597-d6143d8bff33"
      },
      "outputs": [
        {
          "output_type": "stream",
          "name": "stdout",
          "text": [
            "Pobieranie: kazanova/sentiment140\n",
            "Dataset URL: https://www.kaggle.com/datasets/kazanova/sentiment140\n",
            "Baza pobrana do: data/\n"
          ]
        }
      ],
      "source": [
        "class KaggleDatasetFetcher:\n",
        "    def __init__(self, dataset_name, download_path='data/'):\n",
        "        self.dataset_name = dataset_name\n",
        "        self.download_path = download_path\n",
        "        self.api = KaggleApi()\n",
        "        self.api.authenticate()\n",
        "\n",
        "    def download_dataset(self):\n",
        "        if not os.path.exists(self.download_path):\n",
        "            os.makedirs(self.download_path)\n",
        "\n",
        "        print(f\"Pobieranie: {self.dataset_name}\")\n",
        "        self.api.dataset_download_files(self.dataset_name, path=self.download_path, unzip=True)\n",
        "        print(f\"Baza pobrana do: {self.download_path}\")\n",
        "\n",
        "if __name__ == \"__main__\":\n",
        "    dataset_name = 'kazanova/sentiment140'\n",
        "    fetcher = KaggleDatasetFetcher(dataset_name)\n",
        "    fetcher.download_dataset()\n",
        ""
      ]
    },
    {
      "cell_type": "markdown",
      "source": [
        "# Import i wybieranie kolumn"
      ],
      "metadata": {
        "id": "p9C3hcWpcUAR"
      }
    },
    {
      "cell_type": "code",
      "source": [
        "baza = pd.read_csv(\"data/training.1600000.processed.noemoticon.csv\", encoding='latin1')"
      ],
      "metadata": {
        "id": "BHiHkgrCb675"
      },
      "execution_count": 7,
      "outputs": []
    },
    {
      "cell_type": "code",
      "source": [
        "baza.columns"
      ],
      "metadata": {
        "colab": {
          "base_uri": "https://localhost:8080/"
        },
        "id": "_Qt5MFPhc5uV",
        "outputId": "5ad884c4-84a5-4164-ee7d-2e117e0b2379"
      },
      "execution_count": 8,
      "outputs": [
        {
          "output_type": "execute_result",
          "data": {
            "text/plain": [
              "Index(['0', '1467810369', 'Mon Apr 06 22:19:45 PDT 2009', 'NO_QUERY',\n",
              "       '_TheSpecialOne_',\n",
              "       '@switchfoot http://twitpic.com/2y1zl - Awww, that's a bummer.  You shoulda got David Carr of Third Day to do it. ;D'],\n",
              "      dtype='object')"
            ]
          },
          "metadata": {},
          "execution_count": 8
        }
      ]
    },
    {
      "cell_type": "code",
      "source": [
        "mapowania = {\"0\": \"sentyment\", \"@switchfoot http://twitpic.com/2y1zl - Awww, that's a bummer.  You shoulda got David Carr of Third Day to do it. ;D\": \"tweet\"}\n",
        "baza.rename(columns = mapowania, inplace = True)\n",
        "baza.head(2)"
      ],
      "metadata": {
        "colab": {
          "base_uri": "https://localhost:8080/",
          "height": 112
        },
        "id": "ve0_IWlKduHq",
        "outputId": "35a09e39-a743-4f1c-d127-04ff55bf1f4e"
      },
      "execution_count": 9,
      "outputs": [
        {
          "output_type": "execute_result",
          "data": {
            "text/plain": [
              "   sentyment  1467810369  Mon Apr 06 22:19:45 PDT 2009  NO_QUERY  \\\n",
              "0          0  1467810672  Mon Apr 06 22:19:49 PDT 2009  NO_QUERY   \n",
              "1          0  1467810917  Mon Apr 06 22:19:53 PDT 2009  NO_QUERY   \n",
              "\n",
              "  _TheSpecialOne_                                              tweet  \n",
              "0   scotthamilton  is upset that he can't update his Facebook by ...  \n",
              "1        mattycus  @Kenichan I dived many times for the ball. Man...  "
            ],
            "text/html": [
              "\n",
              "  <div id=\"df-075e439c-96b1-48ce-8f9d-9a82d28d8aee\" class=\"colab-df-container\">\n",
              "    <div>\n",
              "<style scoped>\n",
              "    .dataframe tbody tr th:only-of-type {\n",
              "        vertical-align: middle;\n",
              "    }\n",
              "\n",
              "    .dataframe tbody tr th {\n",
              "        vertical-align: top;\n",
              "    }\n",
              "\n",
              "    .dataframe thead th {\n",
              "        text-align: right;\n",
              "    }\n",
              "</style>\n",
              "<table border=\"1\" class=\"dataframe\">\n",
              "  <thead>\n",
              "    <tr style=\"text-align: right;\">\n",
              "      <th></th>\n",
              "      <th>sentyment</th>\n",
              "      <th>1467810369</th>\n",
              "      <th>Mon Apr 06 22:19:45 PDT 2009</th>\n",
              "      <th>NO_QUERY</th>\n",
              "      <th>_TheSpecialOne_</th>\n",
              "      <th>tweet</th>\n",
              "    </tr>\n",
              "  </thead>\n",
              "  <tbody>\n",
              "    <tr>\n",
              "      <th>0</th>\n",
              "      <td>0</td>\n",
              "      <td>1467810672</td>\n",
              "      <td>Mon Apr 06 22:19:49 PDT 2009</td>\n",
              "      <td>NO_QUERY</td>\n",
              "      <td>scotthamilton</td>\n",
              "      <td>is upset that he can't update his Facebook by ...</td>\n",
              "    </tr>\n",
              "    <tr>\n",
              "      <th>1</th>\n",
              "      <td>0</td>\n",
              "      <td>1467810917</td>\n",
              "      <td>Mon Apr 06 22:19:53 PDT 2009</td>\n",
              "      <td>NO_QUERY</td>\n",
              "      <td>mattycus</td>\n",
              "      <td>@Kenichan I dived many times for the ball. Man...</td>\n",
              "    </tr>\n",
              "  </tbody>\n",
              "</table>\n",
              "</div>\n",
              "    <div class=\"colab-df-buttons\">\n",
              "\n",
              "  <div class=\"colab-df-container\">\n",
              "    <button class=\"colab-df-convert\" onclick=\"convertToInteractive('df-075e439c-96b1-48ce-8f9d-9a82d28d8aee')\"\n",
              "            title=\"Convert this dataframe to an interactive table.\"\n",
              "            style=\"display:none;\">\n",
              "\n",
              "  <svg xmlns=\"http://www.w3.org/2000/svg\" height=\"24px\" viewBox=\"0 -960 960 960\">\n",
              "    <path d=\"M120-120v-720h720v720H120Zm60-500h600v-160H180v160Zm220 220h160v-160H400v160Zm0 220h160v-160H400v160ZM180-400h160v-160H180v160Zm440 0h160v-160H620v160ZM180-180h160v-160H180v160Zm440 0h160v-160H620v160Z\"/>\n",
              "  </svg>\n",
              "    </button>\n",
              "\n",
              "  <style>\n",
              "    .colab-df-container {\n",
              "      display:flex;\n",
              "      gap: 12px;\n",
              "    }\n",
              "\n",
              "    .colab-df-convert {\n",
              "      background-color: #E8F0FE;\n",
              "      border: none;\n",
              "      border-radius: 50%;\n",
              "      cursor: pointer;\n",
              "      display: none;\n",
              "      fill: #1967D2;\n",
              "      height: 32px;\n",
              "      padding: 0 0 0 0;\n",
              "      width: 32px;\n",
              "    }\n",
              "\n",
              "    .colab-df-convert:hover {\n",
              "      background-color: #E2EBFA;\n",
              "      box-shadow: 0px 1px 2px rgba(60, 64, 67, 0.3), 0px 1px 3px 1px rgba(60, 64, 67, 0.15);\n",
              "      fill: #174EA6;\n",
              "    }\n",
              "\n",
              "    .colab-df-buttons div {\n",
              "      margin-bottom: 4px;\n",
              "    }\n",
              "\n",
              "    [theme=dark] .colab-df-convert {\n",
              "      background-color: #3B4455;\n",
              "      fill: #D2E3FC;\n",
              "    }\n",
              "\n",
              "    [theme=dark] .colab-df-convert:hover {\n",
              "      background-color: #434B5C;\n",
              "      box-shadow: 0px 1px 3px 1px rgba(0, 0, 0, 0.15);\n",
              "      filter: drop-shadow(0px 1px 2px rgba(0, 0, 0, 0.3));\n",
              "      fill: #FFFFFF;\n",
              "    }\n",
              "  </style>\n",
              "\n",
              "    <script>\n",
              "      const buttonEl =\n",
              "        document.querySelector('#df-075e439c-96b1-48ce-8f9d-9a82d28d8aee button.colab-df-convert');\n",
              "      buttonEl.style.display =\n",
              "        google.colab.kernel.accessAllowed ? 'block' : 'none';\n",
              "\n",
              "      async function convertToInteractive(key) {\n",
              "        const element = document.querySelector('#df-075e439c-96b1-48ce-8f9d-9a82d28d8aee');\n",
              "        const dataTable =\n",
              "          await google.colab.kernel.invokeFunction('convertToInteractive',\n",
              "                                                    [key], {});\n",
              "        if (!dataTable) return;\n",
              "\n",
              "        const docLinkHtml = 'Like what you see? Visit the ' +\n",
              "          '<a target=\"_blank\" href=https://colab.research.google.com/notebooks/data_table.ipynb>data table notebook</a>'\n",
              "          + ' to learn more about interactive tables.';\n",
              "        element.innerHTML = '';\n",
              "        dataTable['output_type'] = 'display_data';\n",
              "        await google.colab.output.renderOutput(dataTable, element);\n",
              "        const docLink = document.createElement('div');\n",
              "        docLink.innerHTML = docLinkHtml;\n",
              "        element.appendChild(docLink);\n",
              "      }\n",
              "    </script>\n",
              "  </div>\n",
              "\n",
              "\n",
              "<div id=\"df-2f50dd2c-4adb-481f-a165-061c6900bdc7\">\n",
              "  <button class=\"colab-df-quickchart\" onclick=\"quickchart('df-2f50dd2c-4adb-481f-a165-061c6900bdc7')\"\n",
              "            title=\"Suggest charts\"\n",
              "            style=\"display:none;\">\n",
              "\n",
              "<svg xmlns=\"http://www.w3.org/2000/svg\" height=\"24px\"viewBox=\"0 0 24 24\"\n",
              "     width=\"24px\">\n",
              "    <g>\n",
              "        <path d=\"M19 3H5c-1.1 0-2 .9-2 2v14c0 1.1.9 2 2 2h14c1.1 0 2-.9 2-2V5c0-1.1-.9-2-2-2zM9 17H7v-7h2v7zm4 0h-2V7h2v10zm4 0h-2v-4h2v4z\"/>\n",
              "    </g>\n",
              "</svg>\n",
              "  </button>\n",
              "\n",
              "<style>\n",
              "  .colab-df-quickchart {\n",
              "      --bg-color: #E8F0FE;\n",
              "      --fill-color: #1967D2;\n",
              "      --hover-bg-color: #E2EBFA;\n",
              "      --hover-fill-color: #174EA6;\n",
              "      --disabled-fill-color: #AAA;\n",
              "      --disabled-bg-color: #DDD;\n",
              "  }\n",
              "\n",
              "  [theme=dark] .colab-df-quickchart {\n",
              "      --bg-color: #3B4455;\n",
              "      --fill-color: #D2E3FC;\n",
              "      --hover-bg-color: #434B5C;\n",
              "      --hover-fill-color: #FFFFFF;\n",
              "      --disabled-bg-color: #3B4455;\n",
              "      --disabled-fill-color: #666;\n",
              "  }\n",
              "\n",
              "  .colab-df-quickchart {\n",
              "    background-color: var(--bg-color);\n",
              "    border: none;\n",
              "    border-radius: 50%;\n",
              "    cursor: pointer;\n",
              "    display: none;\n",
              "    fill: var(--fill-color);\n",
              "    height: 32px;\n",
              "    padding: 0;\n",
              "    width: 32px;\n",
              "  }\n",
              "\n",
              "  .colab-df-quickchart:hover {\n",
              "    background-color: var(--hover-bg-color);\n",
              "    box-shadow: 0 1px 2px rgba(60, 64, 67, 0.3), 0 1px 3px 1px rgba(60, 64, 67, 0.15);\n",
              "    fill: var(--button-hover-fill-color);\n",
              "  }\n",
              "\n",
              "  .colab-df-quickchart-complete:disabled,\n",
              "  .colab-df-quickchart-complete:disabled:hover {\n",
              "    background-color: var(--disabled-bg-color);\n",
              "    fill: var(--disabled-fill-color);\n",
              "    box-shadow: none;\n",
              "  }\n",
              "\n",
              "  .colab-df-spinner {\n",
              "    border: 2px solid var(--fill-color);\n",
              "    border-color: transparent;\n",
              "    border-bottom-color: var(--fill-color);\n",
              "    animation:\n",
              "      spin 1s steps(1) infinite;\n",
              "  }\n",
              "\n",
              "  @keyframes spin {\n",
              "    0% {\n",
              "      border-color: transparent;\n",
              "      border-bottom-color: var(--fill-color);\n",
              "      border-left-color: var(--fill-color);\n",
              "    }\n",
              "    20% {\n",
              "      border-color: transparent;\n",
              "      border-left-color: var(--fill-color);\n",
              "      border-top-color: var(--fill-color);\n",
              "    }\n",
              "    30% {\n",
              "      border-color: transparent;\n",
              "      border-left-color: var(--fill-color);\n",
              "      border-top-color: var(--fill-color);\n",
              "      border-right-color: var(--fill-color);\n",
              "    }\n",
              "    40% {\n",
              "      border-color: transparent;\n",
              "      border-right-color: var(--fill-color);\n",
              "      border-top-color: var(--fill-color);\n",
              "    }\n",
              "    60% {\n",
              "      border-color: transparent;\n",
              "      border-right-color: var(--fill-color);\n",
              "    }\n",
              "    80% {\n",
              "      border-color: transparent;\n",
              "      border-right-color: var(--fill-color);\n",
              "      border-bottom-color: var(--fill-color);\n",
              "    }\n",
              "    90% {\n",
              "      border-color: transparent;\n",
              "      border-bottom-color: var(--fill-color);\n",
              "    }\n",
              "  }\n",
              "</style>\n",
              "\n",
              "  <script>\n",
              "    async function quickchart(key) {\n",
              "      const quickchartButtonEl =\n",
              "        document.querySelector('#' + key + ' button');\n",
              "      quickchartButtonEl.disabled = true;  // To prevent multiple clicks.\n",
              "      quickchartButtonEl.classList.add('colab-df-spinner');\n",
              "      try {\n",
              "        const charts = await google.colab.kernel.invokeFunction(\n",
              "            'suggestCharts', [key], {});\n",
              "      } catch (error) {\n",
              "        console.error('Error during call to suggestCharts:', error);\n",
              "      }\n",
              "      quickchartButtonEl.classList.remove('colab-df-spinner');\n",
              "      quickchartButtonEl.classList.add('colab-df-quickchart-complete');\n",
              "    }\n",
              "    (() => {\n",
              "      let quickchartButtonEl =\n",
              "        document.querySelector('#df-2f50dd2c-4adb-481f-a165-061c6900bdc7 button');\n",
              "      quickchartButtonEl.style.display =\n",
              "        google.colab.kernel.accessAllowed ? 'block' : 'none';\n",
              "    })();\n",
              "  </script>\n",
              "</div>\n",
              "    </div>\n",
              "  </div>\n"
            ],
            "application/vnd.google.colaboratory.intrinsic+json": {
              "type": "dataframe",
              "variable_name": "baza"
            }
          },
          "metadata": {},
          "execution_count": 9
        }
      ]
    },
    {
      "cell_type": "code",
      "source": [
        "baza = baza[[\"tweet\", \"sentyment\"]]"
      ],
      "metadata": {
        "id": "VcBcKc9aeSg0"
      },
      "execution_count": 10,
      "outputs": []
    },
    {
      "cell_type": "code",
      "source": [
        "baza.info()"
      ],
      "metadata": {
        "colab": {
          "base_uri": "https://localhost:8080/"
        },
        "id": "U-Bg6r1wegag",
        "outputId": "89970a50-e370-4a52-ce89-53f2be7a8cbf"
      },
      "execution_count": 11,
      "outputs": [
        {
          "output_type": "stream",
          "name": "stdout",
          "text": [
            "<class 'pandas.core.frame.DataFrame'>\n",
            "RangeIndex: 1599999 entries, 0 to 1599998\n",
            "Data columns (total 2 columns):\n",
            " #   Column     Non-Null Count    Dtype \n",
            "---  ------     --------------    ----- \n",
            " 0   tweet      1599999 non-null  object\n",
            " 1   sentyment  1599999 non-null  int64 \n",
            "dtypes: int64(1), object(1)\n",
            "memory usage: 24.4+ MB\n"
          ]
        }
      ]
    },
    {
      "cell_type": "markdown",
      "source": [
        "# Wstępna analiza danych"
      ],
      "metadata": {
        "id": "-O5Ux7zafN14"
      }
    },
    {
      "cell_type": "code",
      "source": [
        "tweets = baza[\"tweet\"]\n",
        "num_tweets = len(tweets)\n",
        "tweet_lengths = tweets.apply(len)\n",
        "word_counts = tweets.apply(lambda x: len(x.split()))"
      ],
      "metadata": {
        "id": "b_kMAFRmei8I"
      },
      "execution_count": 12,
      "outputs": []
    },
    {
      "cell_type": "code",
      "source": [
        "print(\"Podstawowe statystyki dotyczące tweetów:\")\n",
        "print(f\"Liczba tweetów: {num_tweets}\")\n",
        "print(f\"Średnia długość tweetów: {np.mean(tweet_lengths)}\")\n",
        "print(f\"Mediana długości tweetów: {np.median(tweet_lengths)}\")\n",
        "print(f\"Minimalna długość tweetów: {np.min(tweet_lengths)}\")\n",
        "print(f\"Maksymalna długość tweetów: {np.max(tweet_lengths)}\")\n",
        "print(f\"Odchylenie standardowe długości tweetów: {np.std(tweet_lengths)}\")\n",
        "print(f\"Średnia liczba słów w tweetach: {np.mean(word_counts)}\")\n",
        "print(f\"Mediana liczby słów w tweetach: {np.median(word_counts)}\")\n",
        "print(f\"Minimalna liczba słów w tweetach: {np.min(word_counts)}\")\n",
        "print(f\"Maksymalna liczba słów w tweetach: {np.max(word_counts)}\")\n",
        "print(f\"Odchylenie standardowe liczby słów w tweetach: {np.std(word_counts)}\")"
      ],
      "metadata": {
        "colab": {
          "base_uri": "https://localhost:8080/"
        },
        "id": "c3lglWlffjTw",
        "outputId": "57ce6881-cb96-4d1d-ee69-a0cdaea84bbf"
      },
      "execution_count": 13,
      "outputs": [
        {
          "output_type": "stream",
          "name": "stdout",
          "text": [
            "Podstawowe statystyki dotyczące tweetów:\n",
            "Liczba tweetów: 1599999\n",
            "Średnia długość tweetów: 74.09008568130355\n",
            "Mediana długości tweetów: 69.0\n",
            "Minimalna długość tweetów: 6\n",
            "Maksymalna długość tweetów: 374\n",
            "Odchylenie standardowe długości tweetów: 36.44112440186655\n",
            "Średnia liczba słów w tweetach: 13.176146985091865\n",
            "Mediana liczby słów w tweetach: 12.0\n",
            "Minimalna liczba słów w tweetach: 1\n",
            "Maksymalna liczba słów w tweetach: 64\n",
            "Odchylenie standardowe liczby słów w tweetach: 6.957976853399024\n"
          ]
        }
      ]
    },
    {
      "cell_type": "markdown",
      "source": [
        "# Normalizacja tekstu + stemming + lematyzacja\n"
      ],
      "metadata": {
        "id": "ex6LIL_OSr1H"
      }
    },
    {
      "cell_type": "code",
      "source": [
        "# Tokenizacja tekstu\n",
        "tokenized_tweets = tweets.apply(word_tokenize)\n",
        "\n",
        "# Usuwanie znaków specjalnych\n",
        "tokenized_tweets = tokenized_tweets.apply(lambda x: [word for word in x if word.isalnum()])\n",
        "\n",
        "# Zamiana na małe litery\n",
        "tokenized_tweets = tokenized_tweets.apply(lambda x: [word.lower() for word in x])\n",
        "\n",
        "# Usuwanie stop words\n",
        "stop_words = set(stopwords.words('english'))\n",
        "tokenized_tweets = tokenized_tweets.apply(lambda x: [word for word in x if word not in stop_words])\n",
        "\n",
        "# Lematyzacja\n",
        "lemmatizer = WordNetLemmatizer()\n",
        "tokenized_tweets = tokenized_tweets.apply(lambda x: [lemmatizer.lemmatize(word) for word in x])\n",
        "\n",
        "# Usuwanie tokenów o długości 1\n",
        "tokenized_tweets = tokenized_tweets.apply(lambda x: [word for word in x if len(word) > 1])\n",
        "\n",
        "# Konwersja tokenów z powrotem na tekst\n",
        "normalized_tweets = tokenized_tweets.apply(lambda x: ' '.join(x))"
      ],
      "metadata": {
        "id": "Bxu9EV9kfvzH"
      },
      "execution_count": 14,
      "outputs": []
    },
    {
      "cell_type": "code",
      "source": [
        "for i in range(5):\n",
        "  print(normalized_tweets[i])"
      ],
      "metadata": {
        "colab": {
          "base_uri": "https://localhost:8080/"
        },
        "id": "t_mqQAFqt4ns",
        "outputId": "8bc6ca4e-74bc-4eb2-a78b-d3013ab92da5"
      },
      "execution_count": 15,
      "outputs": [
        {
          "output_type": "stream",
          "name": "stdout",
          "text": [
            "upset ca update facebook texting might cry result school today also blah\n",
            "kenichan dived many time ball managed save 50 rest go bound\n",
            "whole body feel itchy like fire\n",
            "nationwideclass behaving mad ca see\n",
            "kwesidei whole crew\n"
          ]
        }
      ]
    },
    {
      "cell_type": "code",
      "source": [
        "# Podział danych na trzy grupy według wartości etykiety sentymentu\n",
        "negative_group = dane[dane['sentyment'] == 0]\n",
        "neutral_group = dane[dane['sentyment'] == 2]\n",
        "positive_group = dane[dane['sentyment'] == 4]\n",
        "\n",
        "# Pobranie 33% obserwacji z każdej grupy\n",
        "negative_sample = negative_group.sample(frac=0.33, random_state=42)\n",
        "neutral_sample = neutral_group.sample(frac=0.33, random_state=42)\n",
        "positive_sample = positive_group.sample(frac=0.33, random_state=42)\n",
        "\n",
        "# Połączenie próbek w jednym zestawie danych\n",
        "sampled_data = pd.concat([negative_sample, neutral_sample, positive_sample], ignore_index=True)\n",
        "\n",
        "# Wybór 10 000 obserwacji\n",
        "sampled_data = sampled_data.sample(n=100000, random_state=42)\n",
        "\n",
        "# Mapowanie wartości sentymentu do 0 i 1\n",
        "sampled_data['sentyment'] = sampled_data['sentyment'].map({0: 0, 4: 1})\n",
        "\n",
        "# Sprawdzenie rozkładu etykiet w pobranych danych\n",
        "print(sampled_data['sentyment'].value_counts())"
      ],
      "metadata": {
        "colab": {
          "base_uri": "https://localhost:8080/"
        },
        "id": "cDLxuI4Su88Z",
        "outputId": "1efd7da8-a2c4-4759-dce4-3012b26bfff4"
      },
      "execution_count": 63,
      "outputs": [
        {
          "output_type": "stream",
          "name": "stdout",
          "text": [
            "sentyment\n",
            "0    50029\n",
            "1    49971\n",
            "Name: count, dtype: int64\n"
          ]
        }
      ]
    },
    {
      "cell_type": "code",
      "source": [
        "X_train, X_test, y_train, y_test = train_test_split(sampled_data['tweet'], sampled_data['sentyment'], test_size=0.2, random_state=42)"
      ],
      "metadata": {
        "id": "lCwV97Yqvw3A"
      },
      "execution_count": 64,
      "outputs": []
    },
    {
      "cell_type": "markdown",
      "source": [
        "# Wektoryzacja tekstu + modelowanie"
      ],
      "metadata": {
        "id": "ADOCgAiBS4Jf"
      }
    },
    {
      "cell_type": "code",
      "source": [
        "# Tokenizacja tekstu\n",
        "tokenizer = Tokenizer(oov_token='<OOV>')\n",
        "tokenizer.fit_on_texts(X_train)\n",
        "X_train_sequences = tokenizer.texts_to_sequences(X_train)\n",
        "X_test_sequences = tokenizer.texts_to_sequences(X_test)\n",
        "\n",
        "# Wyrównanie długości sekwencji\n",
        "max_length = max([len(seq) for seq in X_train_sequences])\n",
        "X_train_padded = pad_sequences(X_train_sequences, maxlen=max_length, padding='post')\n",
        "X_test_padded = pad_sequences(X_test_sequences, maxlen=max_length, padding='post')\n",
        "\n",
        "# Budowa modelu\n",
        "model = Sequential([\n",
        "    Embedding(input_dim=len(word_index)+1, output_dim=16, input_length=max_length),\n",
        "    Bidirectional(LSTM(64, return_sequences=True)),\n",
        "    Bidirectional(LSTM(32)),\n",
        "    Dense(64, activation='relu'),\n",
        "    Dense(32, activation='relu'),\n",
        "    Dense(1, activation='sigmoid')  # Wyjście binarne dla dwóch klas\n",
        "])\n",
        "model.compile(loss='binary_crossentropy', optimizer='adam', metrics=['accuracy'])\n",
        "\n",
        "# Trenowanie modelu\n",
        "history = model.fit(X_train_padded, y_train, epochs=10, validation_data=(X_test_padded, y_test))\n",
        "\n",
        "# Ocena modelu\n",
        "test_loss, test_acc = model.evaluate(X_test_padded, y_test)\n",
        "print(\"Test Loss:\", test_loss)\n",
        "print(\"Test Accuracy:\", test_acc)"
      ],
      "metadata": {
        "colab": {
          "base_uri": "https://localhost:8080/"
        },
        "id": "aDPHdPnCu22B",
        "outputId": "0f512187-1a51-45f1-e9ec-6648853fd5d0"
      },
      "execution_count": 65,
      "outputs": [
        {
          "output_type": "stream",
          "name": "stdout",
          "text": [
            "Epoch 1/10\n",
            "2500/2500 [==============================] - 57s 20ms/step - loss: 0.5266 - accuracy: 0.7303 - val_loss: 0.4895 - val_accuracy: 0.7628\n",
            "Epoch 2/10\n",
            "2500/2500 [==============================] - 35s 14ms/step - loss: 0.3695 - accuracy: 0.8377 - val_loss: 0.5403 - val_accuracy: 0.7363\n",
            "Epoch 3/10\n",
            "2500/2500 [==============================] - 36s 14ms/step - loss: 0.2669 - accuracy: 0.8878 - val_loss: 0.6288 - val_accuracy: 0.7384\n",
            "Epoch 4/10\n",
            "2500/2500 [==============================] - 34s 14ms/step - loss: 0.2064 - accuracy: 0.9138 - val_loss: 0.6660 - val_accuracy: 0.7319\n",
            "Epoch 5/10\n",
            "2500/2500 [==============================] - 37s 15ms/step - loss: 0.1575 - accuracy: 0.9350 - val_loss: 0.8117 - val_accuracy: 0.7260\n",
            "Epoch 6/10\n",
            "2500/2500 [==============================] - 35s 14ms/step - loss: 0.1242 - accuracy: 0.9489 - val_loss: 1.0263 - val_accuracy: 0.7289\n",
            "Epoch 7/10\n",
            "2500/2500 [==============================] - 34s 14ms/step - loss: 0.1000 - accuracy: 0.9595 - val_loss: 1.0437 - val_accuracy: 0.7179\n",
            "Epoch 8/10\n",
            "2500/2500 [==============================] - 36s 14ms/step - loss: 0.0833 - accuracy: 0.9654 - val_loss: 1.0765 - val_accuracy: 0.7151\n",
            "Epoch 9/10\n",
            "2500/2500 [==============================] - 34s 14ms/step - loss: 0.0718 - accuracy: 0.9697 - val_loss: 1.2975 - val_accuracy: 0.7208\n",
            "Epoch 10/10\n",
            "2500/2500 [==============================] - 34s 13ms/step - loss: 0.0612 - accuracy: 0.9742 - val_loss: 1.3488 - val_accuracy: 0.7110\n",
            "625/625 [==============================] - 3s 5ms/step - loss: 1.3488 - accuracy: 0.7110\n",
            "Test Loss: 1.348825216293335\n",
            "Test Accuracy: 0.7110000252723694\n"
          ]
        }
      ]
    },
    {
      "cell_type": "markdown",
      "source": [
        "# Test jednostkowy, który sprawdza, czy dokładność zbioru testowego jest większa niż 70%"
      ],
      "metadata": {
        "id": "GB3Gg8jlS9wf"
      }
    },
    {
      "cell_type": "code",
      "source": [
        "def test_sentiment_model():\n",
        "    # Tokenizacja tekstu\n",
        "    tokenizer = Tokenizer(oov_token='<OOV>')\n",
        "    tokenizer.fit_on_texts(X_train)\n",
        "    X_train_sequences = tokenizer.texts_to_sequences(X_train)\n",
        "    X_test_sequences = tokenizer.texts_to_sequences(X_test)\n",
        "\n",
        "    # Wyrównanie długości sekwencji\n",
        "    max_length = max([len(seq) for seq in X_train_sequences])\n",
        "    X_train_padded = pad_sequences(X_train_sequences, maxlen=max_length, padding='post')\n",
        "    X_test_padded = pad_sequences(X_test_sequences, maxlen=max_length, padding='post')\n",
        "\n",
        "    # Budowa modelu\n",
        "    model = Sequential([\n",
        "        Embedding(input_dim=len(word_index)+1, output_dim=16, input_length=max_length),\n",
        "        Bidirectional(LSTM(64, return_sequences=True)),\n",
        "        Bidirectional(LSTM(32)),\n",
        "        Dense(64, activation='relu'),\n",
        "        Dense(32, activation='relu'),\n",
        "        Dense(1, activation='sigmoid')  # Wyjście binarne dla dwóch klas\n",
        "    ])\n",
        "    model.compile(loss='binary_crossentropy', optimizer='adam', metrics=['accuracy'])\n",
        "\n",
        "    # Trenowanie modelu\n",
        "    history = model.fit(X_train_padded, y_train, epochs=10, validation_data=(X_test_padded, y_test))\n",
        "\n",
        "    # Ocena modelu\n",
        "    test_loss, test_acc = model.evaluate(X_test_padded, y_test)\n",
        "\n",
        "    # Sprawdzenie, czy dokładność testowa jest większa od 70%\n",
        "    assert test_acc > 0.7, \"Test accuracy less than 70%\"\n",
        "\n",
        "# Uruchomienie testu\n",
        "test_sentiment_model()"
      ],
      "metadata": {
        "id": "txbsmYHsLVB9"
      },
      "execution_count": null,
      "outputs": []
    },
    {
      "cell_type": "markdown",
      "source": [
        "# Analiza i ocena wyników"
      ],
      "metadata": {
        "id": "FBbFuUJ7TFu_"
      }
    },
    {
      "cell_type": "code",
      "source": [
        "test_loss, test_acc = model.evaluate(X_test_padded, y_test)\n",
        "print(\"Test Loss:\", test_loss)\n",
        "print(\"Test Accuracy:\", test_acc)"
      ],
      "metadata": {
        "colab": {
          "base_uri": "https://localhost:8080/"
        },
        "id": "mmA-JPyZ2vnc",
        "outputId": "d15bcb69-43da-4202-c582-733f99917234"
      },
      "execution_count": 70,
      "outputs": [
        {
          "output_type": "stream",
          "name": "stdout",
          "text": [
            "625/625 [==============================] - 3s 5ms/step - loss: 1.3488 - accuracy: 0.7110\n",
            "Test Loss: 1.348825216293335\n",
            "Test Accuracy: 0.7110000252723694\n"
          ]
        }
      ]
    },
    {
      "cell_type": "markdown",
      "source": [
        "## Model sieci neuronowej ma zadawalające parametry przy teście na zbiorze testowym (71%), ale z pewnością wystąpiło przetrenowanie (97% zbiór treningowy vs 71% zbiór uczący). Na pewno jest możliwe poprawa tego wynik np. poprzez pogłębienie sieci bądź zastosowanie regularyzacji."
      ],
      "metadata": {
        "id": "D49G5kN6TIGX"
      }
    }
  ]
}